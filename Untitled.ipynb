{
 "cells": [
  {
   "cell_type": "markdown",
   "metadata": {},
   "source": [
    "# 데이터 전처리"
   ]
  },
  {
   "cell_type": "code",
   "execution_count": 34,
   "metadata": {},
   "outputs": [],
   "source": [
    "from pandas import *"
   ]
  },
  {
   "cell_type": "code",
   "execution_count": 35,
   "metadata": {},
   "outputs": [],
   "source": [
    "import pandas as pd"
   ]
  },
  {
   "cell_type": "code",
   "execution_count": 36,
   "metadata": {},
   "outputs": [],
   "source": [
    "#한국 자료\n",
    "KR=read_csv(\"C://Users/user/Downloads/youtube/KRvideo.csv\")"
   ]
  },
  {
   "cell_type": "code",
   "execution_count": 37,
   "metadata": {},
   "outputs": [],
   "source": [
    "#일본 자료\n",
    "JP=read_csv(\"C://Users/user/Downloads/youtube/JPvideo.csv\")"
   ]
  },
  {
   "cell_type": "code",
   "execution_count": 65,
   "metadata": {},
   "outputs": [],
   "source": [
    "#한국, 일본 자료 합침\n",
    "df=concat([KR,JP],ignore_index=True)"
   ]
  },
  {
   "cell_type": "code",
   "execution_count": 66,
   "metadata": {},
   "outputs": [
    {
     "data": {
      "text/html": [
       "<div>\n",
       "<style scoped>\n",
       "    .dataframe tbody tr th:only-of-type {\n",
       "        vertical-align: middle;\n",
       "    }\n",
       "\n",
       "    .dataframe tbody tr th {\n",
       "        vertical-align: top;\n",
       "    }\n",
       "\n",
       "    .dataframe thead th {\n",
       "        text-align: right;\n",
       "    }\n",
       "</style>\n",
       "<table border=\"1\" class=\"dataframe\">\n",
       "  <thead>\n",
       "    <tr style=\"text-align: right;\">\n",
       "      <th></th>\n",
       "      <th>video_id</th>\n",
       "      <th>trending_date</th>\n",
       "      <th>title</th>\n",
       "      <th>channel_title</th>\n",
       "      <th>category_id</th>\n",
       "      <th>publish_time</th>\n",
       "      <th>tags</th>\n",
       "      <th>views</th>\n",
       "      <th>likes</th>\n",
       "      <th>dislikes</th>\n",
       "      <th>comment_count</th>\n",
       "      <th>thumbnail_link</th>\n",
       "      <th>comments_disabled</th>\n",
       "      <th>ratings_disabled</th>\n",
       "      <th>video_error_or_removed</th>\n",
       "      <th>description</th>\n",
       "    </tr>\n",
       "  </thead>\n",
       "  <tbody>\n",
       "    <tr>\n",
       "      <th>0</th>\n",
       "      <td>RxGQe4EeEpA</td>\n",
       "      <td>17.14.11</td>\n",
       "      <td>좋아 by 민서_윤종신_좋니 답가</td>\n",
       "      <td>라푸마코리아</td>\n",
       "      <td>22</td>\n",
       "      <td>2017-11-13T07:07:36.000Z</td>\n",
       "      <td>라푸마|\"윤종신\"|\"좋니\"|\"좋아\"|\"샬레\"|\"민서\"</td>\n",
       "      <td>156130</td>\n",
       "      <td>1422</td>\n",
       "      <td>40</td>\n",
       "      <td>272</td>\n",
       "      <td>https://i.ytimg.com/vi/RxGQe4EeEpA/default.jpg</td>\n",
       "      <td>False</td>\n",
       "      <td>False</td>\n",
       "      <td>False</td>\n",
       "      <td>윤종신 '좋니'의 답가 '좋아' 최초 공개!\\n그 여자의 이야기를 지금 만나보세요....</td>\n",
       "    </tr>\n",
       "    <tr>\n",
       "      <th>1</th>\n",
       "      <td>hH7wVE8OlQ0</td>\n",
       "      <td>17.14.11</td>\n",
       "      <td>JSA 귀순 북한군 총격 부상</td>\n",
       "      <td>Edward</td>\n",
       "      <td>25</td>\n",
       "      <td>2017-11-13T10:59:16.000Z</td>\n",
       "      <td>JSA|\"귀순\"|\"북한군\"|\"총격\"|\"부상\"|\"JSA 귀순 북한군 총격 부상\"</td>\n",
       "      <td>76533</td>\n",
       "      <td>211</td>\n",
       "      <td>28</td>\n",
       "      <td>113</td>\n",
       "      <td>https://i.ytimg.com/vi/hH7wVE8OlQ0/default.jpg</td>\n",
       "      <td>False</td>\n",
       "      <td>False</td>\n",
       "      <td>False</td>\n",
       "      <td>[채널A단독]北 병사 현재 '의식불명'… 혈압 떨어지는 중 \\n[채널A단독]우리측 ...</td>\n",
       "    </tr>\n",
       "    <tr>\n",
       "      <th>2</th>\n",
       "      <td>9V8bnWUmE9U</td>\n",
       "      <td>17.14.11</td>\n",
       "      <td>나몰라패밀리 운동화 영상 2탄 (빼빼로데이버젼)</td>\n",
       "      <td>나몰라패밀리 핫쇼</td>\n",
       "      <td>22</td>\n",
       "      <td>2017-11-11T07:16:08.000Z</td>\n",
       "      <td>아디다스|\"빼빼로\"|\"핫쇼\"|\"나몰라패밀리\"|\"대학로\"|\"공연\"</td>\n",
       "      <td>421409</td>\n",
       "      <td>5112</td>\n",
       "      <td>166</td>\n",
       "      <td>459</td>\n",
       "      <td>https://i.ytimg.com/vi/9V8bnWUmE9U/default.jpg</td>\n",
       "      <td>False</td>\n",
       "      <td>False</td>\n",
       "      <td>False</td>\n",
       "      <td>퍼가실때 꼭 출처 부탁드려요</td>\n",
       "    </tr>\n",
       "    <tr>\n",
       "      <th>3</th>\n",
       "      <td>0_8py-t5R80</td>\n",
       "      <td>17.14.11</td>\n",
       "      <td>이명박 출국 현장, 놓치면 안되는 장면</td>\n",
       "      <td>미디어몽구</td>\n",
       "      <td>25</td>\n",
       "      <td>2017-11-12T11:19:52.000Z</td>\n",
       "      <td>이명박|\"이명박 출국금지\"|\"이명박 출국현장\"|\"이명박 바레인\"|\"이명박 대통령\"|...</td>\n",
       "      <td>222850</td>\n",
       "      <td>2093</td>\n",
       "      <td>173</td>\n",
       "      <td>1219</td>\n",
       "      <td>https://i.ytimg.com/vi/0_8py-t5R80/default.jpg</td>\n",
       "      <td>False</td>\n",
       "      <td>False</td>\n",
       "      <td>False</td>\n",
       "      <td>다스는 누구겁니까 듣고 난 후 표정</td>\n",
       "    </tr>\n",
       "    <tr>\n",
       "      <th>4</th>\n",
       "      <td>bk55RbxiQdI</td>\n",
       "      <td>17.14.11</td>\n",
       "      <td>김장겸은 물러갔다 MBC 노조 환호와 눈물</td>\n",
       "      <td>NocutV</td>\n",
       "      <td>25</td>\n",
       "      <td>2017-11-13T11:08:59.000Z</td>\n",
       "      <td>nocutV|\"노컷V\"|\"CBS\"|\"mbc\"|\"김장겸\"|\"해임\"|\"허일후\"</td>\n",
       "      <td>84466</td>\n",
       "      <td>1094</td>\n",
       "      <td>109</td>\n",
       "      <td>450</td>\n",
       "      <td>https://i.ytimg.com/vi/bk55RbxiQdI/default.jpg</td>\n",
       "      <td>False</td>\n",
       "      <td>False</td>\n",
       "      <td>False</td>\n",
       "      <td>김장겸 MBC 사장이 결국 해임됐다.\\n\\nMBC 대주주인 방송문화진흥회는 13일 ...</td>\n",
       "    </tr>\n",
       "    <tr>\n",
       "      <th>...</th>\n",
       "      <td>...</td>\n",
       "      <td>...</td>\n",
       "      <td>...</td>\n",
       "      <td>...</td>\n",
       "      <td>...</td>\n",
       "      <td>...</td>\n",
       "      <td>...</td>\n",
       "      <td>...</td>\n",
       "      <td>...</td>\n",
       "      <td>...</td>\n",
       "      <td>...</td>\n",
       "      <td>...</td>\n",
       "      <td>...</td>\n",
       "      <td>...</td>\n",
       "      <td>...</td>\n",
       "      <td>...</td>\n",
       "    </tr>\n",
       "    <tr>\n",
       "      <th>55085</th>\n",
       "      <td>GuWCkLnCMOo</td>\n",
       "      <td>18.14.06</td>\n",
       "      <td>หนึ่งด้าวฟ้าเดียว NeungDaoFahDeaw EP.15 ตอนที่...</td>\n",
       "      <td>Ch3Thailand</td>\n",
       "      <td>24</td>\n",
       "      <td>2018-06-13T17:00:01.000Z</td>\n",
       "      <td>หนึ่งด้าวฟ้าเดียว|\"NeungDaoFahDeaw\"|\"เจมส์ จิร...</td>\n",
       "      <td>81321</td>\n",
       "      <td>321</td>\n",
       "      <td>17</td>\n",
       "      <td>61</td>\n",
       "      <td>https://i.ytimg.com/vi/GuWCkLnCMOo/default.jpg</td>\n",
       "      <td>False</td>\n",
       "      <td>False</td>\n",
       "      <td>False</td>\n",
       "      <td>หลังจบละครทางหน้าจอทีวี สามารถรับชมได้อีกครั้ง...</td>\n",
       "    </tr>\n",
       "    <tr>\n",
       "      <th>55086</th>\n",
       "      <td>nOUlB0i2MaA</td>\n",
       "      <td>18.14.06</td>\n",
       "      <td>2018 국민의 선택 - 선거방송 '왕의 귀환' 12시간 연속 생중계! (풀영상) ...</td>\n",
       "      <td>SBS 뉴스</td>\n",
       "      <td>25</td>\n",
       "      <td>2018-06-13T19:10:31.000Z</td>\n",
       "      <td>뉴스|\"NEWS\"|\"news\"|\"SBS\"|\"sbs\"|\"SBS NEWS\"|\"SBS8N...</td>\n",
       "      <td>433188</td>\n",
       "      <td>0</td>\n",
       "      <td>0</td>\n",
       "      <td>175</td>\n",
       "      <td>https://i.ytimg.com/vi/nOUlB0i2MaA/default.jpg</td>\n",
       "      <td>False</td>\n",
       "      <td>True</td>\n",
       "      <td>False</td>\n",
       "      <td>'선거방송의 명가' SBS가 온다! SBS가 제 7회 전국동시지방선거(6·13 지방...</td>\n",
       "    </tr>\n",
       "    <tr>\n",
       "      <th>55087</th>\n",
       "      <td>4cRanIowkTE</td>\n",
       "      <td>18.14.06</td>\n",
       "      <td>元FBIエージェントが教える、200％人を引き付けるようになるコツ、トップ10</td>\n",
       "      <td>ブライトサイド | Bright Side Japan</td>\n",
       "      <td>26</td>\n",
       "      <td>2018-06-13T14:00:02.000Z</td>\n",
       "      <td>人々を魅了する方法|\"魅力的になるには\"|\"成功の秘訣\"|\"簡単なトリック\"|\"人から好かれ...</td>\n",
       "      <td>39235</td>\n",
       "      <td>1194</td>\n",
       "      <td>27</td>\n",
       "      <td>46</td>\n",
       "      <td>https://i.ytimg.com/vi/4cRanIowkTE/default.jpg</td>\n",
       "      <td>False</td>\n",
       "      <td>False</td>\n",
       "      <td>False</td>\n",
       "      <td>元FBIエージェント、ジャック･シェーファー医師が明かす、人に200％魅力的に見せるトリック...</td>\n",
       "    </tr>\n",
       "    <tr>\n",
       "      <th>55088</th>\n",
       "      <td>oLtWIVBVoS8</td>\n",
       "      <td>18.14.06</td>\n",
       "      <td>日本×パラグアイ徹底分析&amp;スペイン代表監督解任事件を解説【トークtheフットボール】#683</td>\n",
       "      <td>Leo the football TV</td>\n",
       "      <td>17</td>\n",
       "      <td>2018-06-13T13:56:47.000Z</td>\n",
       "      <td>W杯|\"ワールドカップ\"|\"蹴球\"|\"思想家\"|\"ラジオ\"|\"ナポリ\"|\"ライプツィヒ\"|\"...</td>\n",
       "      <td>49900</td>\n",
       "      <td>431</td>\n",
       "      <td>66</td>\n",
       "      <td>336</td>\n",
       "      <td>https://i.ytimg.com/vi/oLtWIVBVoS8/default.jpg</td>\n",
       "      <td>False</td>\n",
       "      <td>False</td>\n",
       "      <td>False</td>\n",
       "      <td>「２０１８Ｗ杯ロシア大会日本代表戦ライヴイベント」日本代表のグループリーグ３試合をLeo t...</td>\n",
       "    </tr>\n",
       "    <tr>\n",
       "      <th>55089</th>\n",
       "      <td>2IEWv23oa9E</td>\n",
       "      <td>18.14.06</td>\n",
       "      <td>エサのコオロギに夢中で二本足で立つカメレオン</td>\n",
       "      <td>釣りよかHOUSE</td>\n",
       "      <td>24</td>\n",
       "      <td>2018-06-13T09:00:00.000Z</td>\n",
       "      <td>よーらい|\"佐賀よかでしょう\"|\"釣りよかでしょう\"|\"釣り\"</td>\n",
       "      <td>46265</td>\n",
       "      <td>816</td>\n",
       "      <td>40</td>\n",
       "      <td>59</td>\n",
       "      <td>https://i.ytimg.com/vi/2IEWv23oa9E/default.jpg</td>\n",
       "      <td>False</td>\n",
       "      <td>False</td>\n",
       "      <td>False</td>\n",
       "      <td>使用した物https://amzn.to/2JwOEPGメインチャンネル　釣りよかでしょうh...</td>\n",
       "    </tr>\n",
       "  </tbody>\n",
       "</table>\n",
       "<p>55090 rows × 16 columns</p>\n",
       "</div>"
      ],
      "text/plain": [
       "          video_id trending_date  \\\n",
       "0      RxGQe4EeEpA      17.14.11   \n",
       "1      hH7wVE8OlQ0      17.14.11   \n",
       "2      9V8bnWUmE9U      17.14.11   \n",
       "3      0_8py-t5R80      17.14.11   \n",
       "4      bk55RbxiQdI      17.14.11   \n",
       "...            ...           ...   \n",
       "55085  GuWCkLnCMOo      18.14.06   \n",
       "55086  nOUlB0i2MaA      18.14.06   \n",
       "55087  4cRanIowkTE      18.14.06   \n",
       "55088  oLtWIVBVoS8      18.14.06   \n",
       "55089  2IEWv23oa9E      18.14.06   \n",
       "\n",
       "                                                   title  \\\n",
       "0                                     좋아 by 민서_윤종신_좋니 답가   \n",
       "1                                       JSA 귀순 북한군 총격 부상   \n",
       "2                             나몰라패밀리 운동화 영상 2탄 (빼빼로데이버젼)   \n",
       "3                             이명박 출국 현장, 놓치면 안되는 장면   \n",
       "4                                김장겸은 물러갔다 MBC 노조 환호와 눈물   \n",
       "...                                                  ...   \n",
       "55085  หนึ่งด้าวฟ้าเดียว NeungDaoFahDeaw EP.15 ตอนที่...   \n",
       "55086  2018 국민의 선택 - 선거방송 '왕의 귀환' 12시간 연속 생중계! (풀영상) ...   \n",
       "55087            元FBIエージェントが教える、200％人を引き付けるようになるコツ、トップ10   \n",
       "55088     日本×パラグアイ徹底分析&スペイン代表監督解任事件を解説【トークtheフットボール】#683   \n",
       "55089                             エサのコオロギに夢中で二本足で立つカメレオン   \n",
       "\n",
       "                     channel_title  category_id              publish_time  \\\n",
       "0                           라푸마코리아           22  2017-11-13T07:07:36.000Z   \n",
       "1                           Edward           25  2017-11-13T10:59:16.000Z   \n",
       "2                        나몰라패밀리 핫쇼           22  2017-11-11T07:16:08.000Z   \n",
       "3                            미디어몽구           25  2017-11-12T11:19:52.000Z   \n",
       "4                           NocutV           25  2017-11-13T11:08:59.000Z   \n",
       "...                            ...          ...                       ...   \n",
       "55085                  Ch3Thailand           24  2018-06-13T17:00:01.000Z   \n",
       "55086                       SBS 뉴스           25  2018-06-13T19:10:31.000Z   \n",
       "55087  ブライトサイド | Bright Side Japan           26  2018-06-13T14:00:02.000Z   \n",
       "55088          Leo the football TV           17  2018-06-13T13:56:47.000Z   \n",
       "55089                    釣りよかHOUSE           24  2018-06-13T09:00:00.000Z   \n",
       "\n",
       "                                                    tags   views  likes  \\\n",
       "0                          라푸마|\"윤종신\"|\"좋니\"|\"좋아\"|\"샬레\"|\"민서\"  156130   1422   \n",
       "1            JSA|\"귀순\"|\"북한군\"|\"총격\"|\"부상\"|\"JSA 귀순 북한군 총격 부상\"   76533    211   \n",
       "2                    아디다스|\"빼빼로\"|\"핫쇼\"|\"나몰라패밀리\"|\"대학로\"|\"공연\"  421409   5112   \n",
       "3      이명박|\"이명박 출국금지\"|\"이명박 출국현장\"|\"이명박 바레인\"|\"이명박 대통령\"|...  222850   2093   \n",
       "4              nocutV|\"노컷V\"|\"CBS\"|\"mbc\"|\"김장겸\"|\"해임\"|\"허일후\"   84466   1094   \n",
       "...                                                  ...     ...    ...   \n",
       "55085  หนึ่งด้าวฟ้าเดียว|\"NeungDaoFahDeaw\"|\"เจมส์ จิร...   81321    321   \n",
       "55086  뉴스|\"NEWS\"|\"news\"|\"SBS\"|\"sbs\"|\"SBS NEWS\"|\"SBS8N...  433188      0   \n",
       "55087  人々を魅了する方法|\"魅力的になるには\"|\"成功の秘訣\"|\"簡単なトリック\"|\"人から好かれ...   39235   1194   \n",
       "55088  W杯|\"ワールドカップ\"|\"蹴球\"|\"思想家\"|\"ラジオ\"|\"ナポリ\"|\"ライプツィヒ\"|\"...   49900    431   \n",
       "55089                    よーらい|\"佐賀よかでしょう\"|\"釣りよかでしょう\"|\"釣り\"   46265    816   \n",
       "\n",
       "       dislikes  comment_count  \\\n",
       "0            40            272   \n",
       "1            28            113   \n",
       "2           166            459   \n",
       "3           173           1219   \n",
       "4           109            450   \n",
       "...         ...            ...   \n",
       "55085        17             61   \n",
       "55086         0            175   \n",
       "55087        27             46   \n",
       "55088        66            336   \n",
       "55089        40             59   \n",
       "\n",
       "                                       thumbnail_link  comments_disabled  \\\n",
       "0      https://i.ytimg.com/vi/RxGQe4EeEpA/default.jpg              False   \n",
       "1      https://i.ytimg.com/vi/hH7wVE8OlQ0/default.jpg              False   \n",
       "2      https://i.ytimg.com/vi/9V8bnWUmE9U/default.jpg              False   \n",
       "3      https://i.ytimg.com/vi/0_8py-t5R80/default.jpg              False   \n",
       "4      https://i.ytimg.com/vi/bk55RbxiQdI/default.jpg              False   \n",
       "...                                               ...                ...   \n",
       "55085  https://i.ytimg.com/vi/GuWCkLnCMOo/default.jpg              False   \n",
       "55086  https://i.ytimg.com/vi/nOUlB0i2MaA/default.jpg              False   \n",
       "55087  https://i.ytimg.com/vi/4cRanIowkTE/default.jpg              False   \n",
       "55088  https://i.ytimg.com/vi/oLtWIVBVoS8/default.jpg              False   \n",
       "55089  https://i.ytimg.com/vi/2IEWv23oa9E/default.jpg              False   \n",
       "\n",
       "       ratings_disabled  video_error_or_removed  \\\n",
       "0                 False                   False   \n",
       "1                 False                   False   \n",
       "2                 False                   False   \n",
       "3                 False                   False   \n",
       "4                 False                   False   \n",
       "...                 ...                     ...   \n",
       "55085             False                   False   \n",
       "55086              True                   False   \n",
       "55087             False                   False   \n",
       "55088             False                   False   \n",
       "55089             False                   False   \n",
       "\n",
       "                                             description  \n",
       "0      윤종신 '좋니'의 답가 '좋아' 최초 공개!\\n그 여자의 이야기를 지금 만나보세요....  \n",
       "1      [채널A단독]北 병사 현재 '의식불명'… 혈압 떨어지는 중 \\n[채널A단독]우리측 ...  \n",
       "2                                        퍼가실때 꼭 출처 부탁드려요  \n",
       "3                                    다스는 누구겁니까 듣고 난 후 표정  \n",
       "4      김장겸 MBC 사장이 결국 해임됐다.\\n\\nMBC 대주주인 방송문화진흥회는 13일 ...  \n",
       "...                                                  ...  \n",
       "55085  หลังจบละครทางหน้าจอทีวี สามารถรับชมได้อีกครั้ง...  \n",
       "55086  '선거방송의 명가' SBS가 온다! SBS가 제 7회 전국동시지방선거(6·13 지방...  \n",
       "55087  元FBIエージェント、ジャック･シェーファー医師が明かす、人に200％魅力的に見せるトリック...  \n",
       "55088  「２０１８Ｗ杯ロシア大会日本代表戦ライヴイベント」日本代表のグループリーグ３試合をLeo t...  \n",
       "55089  使用した物https://amzn.to/2JwOEPGメインチャンネル　釣りよかでしょうh...  \n",
       "\n",
       "[55090 rows x 16 columns]"
      ]
     },
     "execution_count": 66,
     "metadata": {},
     "output_type": "execute_result"
    }
   ],
   "source": [
    "df"
   ]
  },
  {
   "cell_type": "code",
   "execution_count": 67,
   "metadata": {},
   "outputs": [
    {
     "name": "stdout",
     "output_type": "stream",
     "text": [
      "video_id                  55090\n",
      "trending_date             55090\n",
      "title                     55090\n",
      "channel_title             55090\n",
      "category_id               55090\n",
      "publish_time              55090\n",
      "tags                      55090\n",
      "views                     55090\n",
      "likes                     55090\n",
      "dislikes                  55090\n",
      "comment_count             55090\n",
      "thumbnail_link            55090\n",
      "comments_disabled         55090\n",
      "ratings_disabled          55090\n",
      "video_error_or_removed    55090\n",
      "description               49803\n",
      "dtype: int64\n"
     ]
    },
    {
     "data": {
      "text/plain": [
       "55090"
      ]
     },
     "execution_count": 67,
     "metadata": {},
     "output_type": "execute_result"
    }
   ],
   "source": [
    "#누락값 확인\n",
    "print(df.count())\n",
    "df.shape[0] # description 외에는 누락값이 존재하지 않음"
   ]
  },
  {
   "cell_type": "code",
   "execution_count": 68,
   "metadata": {},
   "outputs": [
    {
     "data": {
      "text/plain": [
       "False    28283\n",
       "True     26807\n",
       "Name: video_id, dtype: int64"
      ]
     },
     "execution_count": 68,
     "metadata": {},
     "output_type": "execute_result"
    }
   ],
   "source": [
    "# video_id가 고유한 값인지 확인\n",
    "df['video_id'].duplicated().value_counts()"
   ]
  },
  {
   "cell_type": "code",
   "execution_count": 69,
   "metadata": {},
   "outputs": [
    {
     "data": {
      "text/plain": [
       "False    28283\n",
       "Name: video_id, dtype: int64"
      ]
     },
     "execution_count": 69,
     "metadata": {},
     "output_type": "execute_result"
    }
   ],
   "source": [
    "# 중복이 존재하여 처음 데이터만 살리기\n",
    "df=df.drop_duplicates(['video_id'])[:]\n",
    "df['video_id'].duplicated().value_counts()"
   ]
  },
  {
   "cell_type": "markdown",
   "metadata": {},
   "source": [
    "# 1. 카테고리별 평균 조회수 분석"
   ]
  },
  {
   "cell_type": "code",
   "execution_count": 72,
   "metadata": {},
   "outputs": [
    {
     "data": {
      "text/plain": [
       "{'1': 'Film & Animation',\n",
       " '2': 'Autos & Vehicles',\n",
       " '10': 'Music',\n",
       " '15': 'Pets & Animals',\n",
       " '17': 'Sports',\n",
       " '18': 'Short Movies',\n",
       " '19': 'Travel & Events',\n",
       " '20': 'Gaming',\n",
       " '21': 'Videoblogging',\n",
       " '22': 'People & Blogs',\n",
       " '23': 'Comedy',\n",
       " '24': 'Entertainment',\n",
       " '25': 'News & Politics',\n",
       " '26': 'Howto & Style',\n",
       " '27': 'Education',\n",
       " '28': 'Science & Technology',\n",
       " '29': 'Nonprofits & Activism',\n",
       " '30': 'Movies',\n",
       " '31': 'Anime/Animation',\n",
       " '32': 'Action/Adventure',\n",
       " '33': 'Classics',\n",
       " '34': 'Comedy',\n",
       " '35': 'Documentary',\n",
       " '36': 'Drama',\n",
       " '37': 'Family',\n",
       " '38': 'Foreign',\n",
       " '39': 'Horror',\n",
       " '40': 'Sci-Fi/Fantasy',\n",
       " '41': 'Thriller',\n",
       " '42': 'Shorts',\n",
       " '43': 'Shows',\n",
       " '44': 'Trailers'}"
      ]
     },
     "execution_count": 72,
     "metadata": {},
     "output_type": "execute_result"
    }
   ],
   "source": [
    "#카테고리 살펴보기\n",
    "import json\n",
    "\n",
    "id_to_category = {}\n",
    "\n",
    "with open(\"C://Users/user/Downloads/youtube/US_category_id.json\",\"r\") as f:\n",
    "    id_data = json.load(f)\n",
    "    for category in id_data[\"items\"]:\n",
    "        id_to_category[category[\"id\"]] = category[\"snippet\"][\"title\"]\n",
    "\n",
    "id_to_category\n"
   ]
  },
  {
   "cell_type": "code",
   "execution_count": 73,
   "metadata": {},
   "outputs": [],
   "source": [
    "df[\"category_id\"] = df[\"category_id\"].astype(str)\n",
    "df.insert(4, \"category\",df[\"category_id\"].map(id_to_category))"
   ]
  },
  {
   "cell_type": "code",
   "execution_count": 74,
   "metadata": {},
   "outputs": [],
   "source": [
    "avg_view_by_category = df.groupby('category')['views'].mean() "
   ]
  },
  {
   "cell_type": "code",
   "execution_count": 75,
   "metadata": {},
   "outputs": [
    {
     "data": {
      "text/plain": [
       "category\n",
       "Autos & Vehicles          55732.369565\n",
       "Comedy                   263737.856792\n",
       "Education                 73266.878981\n",
       "Entertainment            227634.994553\n",
       "Film & Animation         223271.840652\n",
       "Gaming                   145362.284751\n",
       "Howto & Style            172186.412615\n",
       "Music                    644336.725347\n",
       "News & Politics           97555.084816\n",
       "Nonprofits & Activism     59069.969697\n",
       "People & Blogs           117330.420716\n",
       "Pets & Animals            65820.917059\n",
       "Science & Technology     861094.952381\n",
       "Shows                     76535.027397\n",
       "Sports                   284554.516362\n",
       "Trailers                  13454.000000\n",
       "Travel & Events          126240.923729\n",
       "Name: views, dtype: float64"
      ]
     },
     "execution_count": 75,
     "metadata": {},
     "output_type": "execute_result"
    }
   ],
   "source": [
    "avg_view_by_category"
   ]
  },
  {
   "cell_type": "code",
   "execution_count": 76,
   "metadata": {},
   "outputs": [
    {
     "data": {
      "text/plain": [
       "<matplotlib.axes._subplots.AxesSubplot at 0x18536fbb2c8>"
      ]
     },
     "execution_count": 76,
     "metadata": {},
     "output_type": "execute_result"
    },
    {
     "data": {
      "image/png": "[encoded data removed]",
      "text/plain": [
       "<Figure size 432x288 with 1 Axes>"
      ]
     },
     "metadata": {
      "needs_background": "light"
     },
     "output_type": "display_data"
    }
   ],
   "source": [
    "avg_view_by_category.plot(kind=\"bar\")"
   ]
  },
  {
   "cell_type": "code",
   "execution_count": 77,
   "metadata": {},
   "outputs": [],
   "source": [
    "# 평균 조회수 상위 3개"
   ]
  },
  {
   "cell_type": "code",
   "execution_count": 78,
   "metadata": {},
   "outputs": [
    {
     "data": {
      "text/plain": [
       "category\n",
       "Science & Technology    861094.952381\n",
       "Music                   644336.725347\n",
       "Sports                  284554.516362\n",
       "Name: views, dtype: float64"
      ]
     },
     "execution_count": 78,
     "metadata": {},
     "output_type": "execute_result"
    }
   ],
   "source": [
    "avg_view_by_category.sort_values(ascending=False).head(3)"
   ]
  },
  {
   "cell_type": "code",
   "execution_count": 79,
   "metadata": {},
   "outputs": [],
   "source": [
    "# Science & Technology\n",
    "# Music\n",
    "# Film & Animation"
   ]
  },
  {
   "cell_type": "code",
   "execution_count": 80,
   "metadata": {},
   "outputs": [],
   "source": [
    "# 평균 조회수 하위 3개"
   ]
  },
  {
   "cell_type": "code",
   "execution_count": 81,
   "metadata": {},
   "outputs": [
    {
     "data": {
      "text/plain": [
       "category\n",
       "Trailers                 13454.000000\n",
       "Autos & Vehicles         55732.369565\n",
       "Nonprofits & Activism    59069.969697\n",
       "Name: views, dtype: float64"
      ]
     },
     "execution_count": 81,
     "metadata": {},
     "output_type": "execute_result"
    }
   ],
   "source": [
    "avg_view_by_category.sort_values(ascending=True).head(3)"
   ]
  },
  {
   "cell_type": "code",
   "execution_count": 82,
   "metadata": {},
   "outputs": [],
   "source": [
    "# Trailers\n",
    "# Nonprofits & Activism\n",
    "# Autos & Vehicles"
   ]
  },
  {
   "cell_type": "markdown",
   "metadata": {},
   "source": [
    "# 2. 카테고리별 호불호 분석"
   ]
  },
  {
   "cell_type": "code",
   "execution_count": 83,
   "metadata": {},
   "outputs": [
    {
     "data": {
      "text/html": [
       "<div>\n",
       "<style scoped>\n",
       "    .dataframe tbody tr th:only-of-type {\n",
       "        vertical-align: middle;\n",
       "    }\n",
       "\n",
       "    .dataframe tbody tr th {\n",
       "        vertical-align: top;\n",
       "    }\n",
       "\n",
       "    .dataframe thead th {\n",
       "        text-align: right;\n",
       "    }\n",
       "</style>\n",
       "<table border=\"1\" class=\"dataframe\">\n",
       "  <thead>\n",
       "    <tr style=\"text-align: right;\">\n",
       "      <th></th>\n",
       "      <th>likes</th>\n",
       "      <th>dislikes</th>\n",
       "    </tr>\n",
       "    <tr>\n",
       "      <th>category</th>\n",
       "      <th></th>\n",
       "      <th></th>\n",
       "    </tr>\n",
       "  </thead>\n",
       "  <tbody>\n",
       "    <tr>\n",
       "      <th>Autos &amp; Vehicles</th>\n",
       "      <td>883.250000</td>\n",
       "      <td>57.206522</td>\n",
       "    </tr>\n",
       "    <tr>\n",
       "      <th>Comedy</th>\n",
       "      <td>6496.027823</td>\n",
       "      <td>256.290507</td>\n",
       "    </tr>\n",
       "    <tr>\n",
       "      <th>Education</th>\n",
       "      <td>2139.433121</td>\n",
       "      <td>77.267516</td>\n",
       "    </tr>\n",
       "    <tr>\n",
       "      <th>Entertainment</th>\n",
       "      <td>4747.881727</td>\n",
       "      <td>348.148489</td>\n",
       "    </tr>\n",
       "    <tr>\n",
       "      <th>Film &amp; Animation</th>\n",
       "      <td>3795.314931</td>\n",
       "      <td>173.012547</td>\n",
       "    </tr>\n",
       "    <tr>\n",
       "      <th>Gaming</th>\n",
       "      <td>3723.225779</td>\n",
       "      <td>135.773378</td>\n",
       "    </tr>\n",
       "    <tr>\n",
       "      <th>Howto &amp; Style</th>\n",
       "      <td>3296.843627</td>\n",
       "      <td>179.722733</td>\n",
       "    </tr>\n",
       "    <tr>\n",
       "      <th>Music</th>\n",
       "      <td>48926.135672</td>\n",
       "      <td>1021.722700</td>\n",
       "    </tr>\n",
       "    <tr>\n",
       "      <th>News &amp; Politics</th>\n",
       "      <td>1515.655098</td>\n",
       "      <td>117.083948</td>\n",
       "    </tr>\n",
       "    <tr>\n",
       "      <th>Nonprofits &amp; Activism</th>\n",
       "      <td>883.848485</td>\n",
       "      <td>60.265152</td>\n",
       "    </tr>\n",
       "    <tr>\n",
       "      <th>People &amp; Blogs</th>\n",
       "      <td>2086.993602</td>\n",
       "      <td>103.303649</td>\n",
       "    </tr>\n",
       "    <tr>\n",
       "      <th>Pets &amp; Animals</th>\n",
       "      <td>1751.154571</td>\n",
       "      <td>34.769086</td>\n",
       "    </tr>\n",
       "    <tr>\n",
       "      <th>Science &amp; Technology</th>\n",
       "      <td>14636.587302</td>\n",
       "      <td>784.920635</td>\n",
       "    </tr>\n",
       "    <tr>\n",
       "      <th>Shows</th>\n",
       "      <td>359.849315</td>\n",
       "      <td>40.178082</td>\n",
       "    </tr>\n",
       "    <tr>\n",
       "      <th>Sports</th>\n",
       "      <td>2930.076539</td>\n",
       "      <td>160.653356</td>\n",
       "    </tr>\n",
       "    <tr>\n",
       "      <th>Trailers</th>\n",
       "      <td>3.000000</td>\n",
       "      <td>0.000000</td>\n",
       "    </tr>\n",
       "    <tr>\n",
       "      <th>Travel &amp; Events</th>\n",
       "      <td>1373.550847</td>\n",
       "      <td>192.457627</td>\n",
       "    </tr>\n",
       "  </tbody>\n",
       "</table>\n",
       "</div>"
      ],
      "text/plain": [
       "                              likes     dislikes\n",
       "category                                        \n",
       "Autos & Vehicles         883.250000    57.206522\n",
       "Comedy                  6496.027823   256.290507\n",
       "Education               2139.433121    77.267516\n",
       "Entertainment           4747.881727   348.148489\n",
       "Film & Animation        3795.314931   173.012547\n",
       "Gaming                  3723.225779   135.773378\n",
       "Howto & Style           3296.843627   179.722733\n",
       "Music                  48926.135672  1021.722700\n",
       "News & Politics         1515.655098   117.083948\n",
       "Nonprofits & Activism    883.848485    60.265152\n",
       "People & Blogs          2086.993602   103.303649\n",
       "Pets & Animals          1751.154571    34.769086\n",
       "Science & Technology   14636.587302   784.920635\n",
       "Shows                    359.849315    40.178082\n",
       "Sports                  2930.076539   160.653356\n",
       "Trailers                   3.000000     0.000000\n",
       "Travel & Events         1373.550847   192.457627"
      ]
     },
     "execution_count": 83,
     "metadata": {},
     "output_type": "execute_result"
    }
   ],
   "source": [
    "by_category = df.groupby('category').agg({\"likes\":\"mean\",\"dislikes\":\"mean\"})\n",
    "by_category"
   ]
  },
  {
   "cell_type": "code",
   "execution_count": 84,
   "metadata": {},
   "outputs": [],
   "source": [
    "def rate(a,b):\n",
    "    return a/b"
   ]
  },
  {
   "cell_type": "code",
   "execution_count": 85,
   "metadata": {},
   "outputs": [],
   "source": [
    "by_category_rates=rate(by_category['likes'],by_category['dislikes'])"
   ]
  },
  {
   "cell_type": "code",
   "execution_count": 86,
   "metadata": {},
   "outputs": [
    {
     "data": {
      "text/plain": [
       "category\n",
       "Autos & Vehicles         15.439673\n",
       "Comedy                   25.346346\n",
       "Education                27.688649\n",
       "Entertainment            13.637519\n",
       "Film & Animation         21.936646\n",
       "Gaming                   27.422355\n",
       "Howto & Style            18.344055\n",
       "Music                    47.885924\n",
       "News & Politics          12.945029\n",
       "Nonprofits & Activism    14.665996\n",
       "People & Blogs           20.202516\n",
       "Pets & Animals           50.365275\n",
       "Science & Technology     18.647219\n",
       "Shows                     8.956359\n",
       "Sports                   18.238502\n",
       "Trailers                       inf\n",
       "Travel & Events           7.136900\n",
       "dtype: float64"
      ]
     },
     "execution_count": 86,
     "metadata": {},
     "output_type": "execute_result"
    }
   ],
   "source": [
    "by_category_rates"
   ]
  },
  {
   "cell_type": "code",
   "execution_count": 87,
   "metadata": {},
   "outputs": [
    {
     "data": {
      "text/plain": [
       "<matplotlib.axes._subplots.AxesSubplot at 0x18535c002c8>"
      ]
     },
     "execution_count": 87,
     "metadata": {},
     "output_type": "execute_result"
    },
    {
     "data": {
      "image/png": "[encoded data removed]",
      "text/plain": [
       "<Figure size 432x288 with 1 Axes>"
      ]
     },
     "metadata": {
      "needs_background": "light"
     },
     "output_type": "display_data"
    }
   ],
   "source": [
    "by_category_rates.plot(kind=\"bar\")"
   ]
  },
  {
   "cell_type": "code",
   "execution_count": 88,
   "metadata": {},
   "outputs": [
    {
     "data": {
      "text/plain": [
       "category\n",
       "Trailers                inf\n",
       "Pets & Animals    50.365275\n",
       "Music             47.885924\n",
       "dtype: float64"
      ]
     },
     "execution_count": 88,
     "metadata": {},
     "output_type": "execute_result"
    }
   ],
   "source": [
    "by_category_rates.sort_values(ascending=False).head(3)"
   ]
  },
  {
   "cell_type": "code",
   "execution_count": 89,
   "metadata": {},
   "outputs": [],
   "source": [
    "# Pets & Animals와 Musics 카테고리에서 dislike에 비해 like 수가 50배 정도로 비교적 높은 것으로 나타남\n",
    "#Trailers는 likes 3개, dislikes 0개로 너무 작아 제외"
   ]
  },
  {
   "cell_type": "code",
   "execution_count": 90,
   "metadata": {},
   "outputs": [
    {
     "data": {
      "text/plain": [
       "category\n",
       "Travel & Events     7.136900\n",
       "Shows               8.956359\n",
       "News & Politics    12.945029\n",
       "dtype: float64"
      ]
     },
     "execution_count": 90,
     "metadata": {},
     "output_type": "execute_result"
    }
   ],
   "source": [
    "by_category_rates.sort_values(ascending=True).head(3)"
   ]
  },
  {
   "cell_type": "code",
   "execution_count": 91,
   "metadata": {},
   "outputs": [],
   "source": [
    "# 반대로 Travel & Events(19)와 shows(43), News & Politics(25) 에서는 타 카테고리에 비해 like와 dislike의 차이가 크지 않음\n",
    "# 즉 의견이 갈린다고 볼 수 있음"
   ]
  },
  {
   "cell_type": "code",
   "execution_count": null,
   "metadata": {},
   "outputs": [],
   "source": []
  }
 ],
 "metadata": {
  "kernelspec": {
   "display_name": "Python 3",
   "language": "python",
   "name": "python3"
  },
  "language_info": {
   "codemirror_mode": {
    "name": "ipython",
    "version": 3
   },
   "file_extension": ".py",
   "mimetype": "text/x-python",
   "name": "python",
   "nbconvert_exporter": "python",
   "pygments_lexer": "ipython3",
   "version": "3.7.6"
  }
 },
 "nbformat": 4,
 "nbformat_minor": 4
}
